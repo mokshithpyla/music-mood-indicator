{
 "cells": [
  {
   "cell_type": "code",
   "execution_count": 1,
   "metadata": {},
   "outputs": [],
   "source": [
    "import os, sys\n",
    "import pandas as pd\n",
    "dir_tree = 'MillionSongSubset/'\n",
    "\n",
    "for dir_path, dir_names, file_names in os.walk(dir_tree):\n",
    "    for file_name in file_names:\n",
    "        try:\n",
    "            os.rename(os.path.join(dir_path, file_name), os.path.join(dir_tree, file_name))\n",
    "        except OSError:\n",
    "            print(\"Could not move %s \" % os.path.join(dir_path, file_name))\n"
   ]
  },
  {
   "cell_type": "code",
   "execution_count": 3,
   "metadata": {},
   "outputs": [],
   "source": [
    "def make_artist_table(base):\n",
    "\n",
    "    # Get file names\n",
    "    files = [os.path.join(base,fn) for fn in os.listdir(base) if fn.endswith('.h5')]\n",
    "    data = {'file':[], 'artist':[], 'title':[]}\n",
    "\n",
    "    # Add artist and title data to dictionary\n",
    "    for f in files:\n",
    "        store = pd.HDFStore(f)\n",
    "        title = store.root.metadata.songs.cols.title[0]\n",
    "        artist = store.root.metadata.songs.cols.artist_name[0]\n",
    "        data['file'].append(os.path.basename(f))\n",
    "        data['title'].append(title.decode(\"utf-8\"))\n",
    "        data['artist'].append(artist.decode(\"utf-8\"))\n",
    "        store.close()\n",
    "\n",
    "    # Convert dictionary to pandas DataFrame\n",
    "    df = pd.DataFrame.from_dict(data, orient='columns')\n",
    "    df = df[['file', 'artist', 'title']]\n",
    "    return df"
   ]
  },
  {
   "cell_type": "code",
   "execution_count": null,
   "metadata": {},
   "outputs": [],
   "source": []
  }
 ],
 "metadata": {
  "kernelspec": {
   "display_name": "Python 2",
   "language": "python",
   "name": "python2"
  },
  "language_info": {
   "codemirror_mode": {
    "name": "ipython",
    "version": 2
   },
   "file_extension": ".py",
   "mimetype": "text/x-python",
   "name": "python",
   "nbconvert_exporter": "python",
   "pygments_lexer": "ipython2",
   "version": "2.7.15"
  }
 },
 "nbformat": 4,
 "nbformat_minor": 1
}
